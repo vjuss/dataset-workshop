{
  "nbformat": 4,
  "nbformat_minor": 0,
  "metadata": {
    "environment": {
      "name": "pytorch-gpu.1-4.m50",
      "type": "gcloud",
      "uri": "gcr.io/deeplearning-platform-release/pytorch-gpu.1-4:m50"
    },
    "kernelspec": {
      "display_name": "Python 3",
      "language": "python",
      "name": "python3"
    },
    "language_info": {
      "codemirror_mode": {
        "name": "ipython",
        "version": 3
      },
      "file_extension": ".py",
      "mimetype": "text/x-python",
      "name": "python",
      "nbconvert_exporter": "python",
      "pygments_lexer": "ipython3",
      "version": "3.7.6"
    },
    "colab": {
      "name": "Peckham_facade_workshop_cleaned.ipynb",
      "provenance": [],
      "collapsed_sections": []
    }
  },
  "cells": [
    {
      "cell_type": "code",
      "metadata": {
        "id": "n_sJWNN5tXxQ"
      },
      "source": [
        "#https://github.com/vinaykudari/mask-classification/blob/master/training/mask-classification-fastai2.ipynb SOURCE"
      ],
      "execution_count": null,
      "outputs": []
    },
    {
      "cell_type": "code",
      "metadata": {
        "id": "STm6K5RJtqsq"
      },
      "source": [
        "from google.colab import drive # Mount Drive to access our images\n",
        "drive.mount('/content/gdrive', force_remount=True)"
      ],
      "execution_count": null,
      "outputs": []
    },
    {
      "cell_type": "code",
      "metadata": {
        "id": "8lfAcqq5tU5i"
      },
      "source": [
        "%reload_ext autoreload \n",
        "%autoreload 2\n",
        "%matplotlib inline"
      ],
      "execution_count": null,
      "outputs": []
    },
    {
      "cell_type": "code",
      "metadata": {
        "id": "8lP7WmYhvDAt"
      },
      "source": [
        "!pip install -Uqq fastbook #Get newest FastAI\n",
        "import fastbook\n",
        "fastbook.setup_book()"
      ],
      "execution_count": null,
      "outputs": []
    },
    {
      "cell_type": "code",
      "metadata": {
        "id": "6FOQP-VFtU5l"
      },
      "source": [
        "from fastai.vision.all import * #Get comp vis stuff from FastAI\n",
        "from fastai.vision.widgets import *"
      ],
      "execution_count": null,
      "outputs": []
    },
    {
      "cell_type": "code",
      "metadata": {
        "id": "Hoxof6OjtU5l"
      },
      "source": [
        "DATASET_PATH = Path('/content/gdrive/My Drive/nameofyourworkingfolder') #Define path to working folder where the images are"
      ],
      "execution_count": null,
      "outputs": []
    },
    {
      "cell_type": "code",
      "metadata": {
        "id": "koWeImkqtU5l"
      },
      "source": [
        "# Transformations to images (resizing etc.). These are applied only on training dataset\n",
        "test_datablock = DataBlock(\n",
        "    blocks=(ImageBlock, CategoryBlock), \n",
        "    get_items=get_image_files, \n",
        "    splitter=RandomSplitter(valid_pct=0.2, seed=20),\n",
        "    get_y=parent_label,\n",
        "    item_tfms=RandomResizedCrop(224, min_scale=0.3),\n",
        "    batch_tfms=aug_transforms(mult=2)\n",
        ")\n",
        "\n",
        "dls = test_datablock.dataloaders(DATASET_PATH)\n",
        "dls.train.show_batch(max_n=4, nrows=1, unique=True)"
      ],
      "execution_count": null,
      "outputs": []
    },
    {
      "cell_type": "code",
      "metadata": {
        "id": "NhoGWqxAtU5m"
      },
      "source": [
        "learn = cnn_learner(dls, resnet34, metrics=error_rate) # We are using resnet as our base model, we edit its top layers"
      ],
      "execution_count": null,
      "outputs": []
    },
    {
      "cell_type": "code",
      "metadata": {
        "id": "3mmVQJIStU5m"
      },
      "source": [
        "learn.fine_tune(10) #Train for 10 epochs"
      ],
      "execution_count": null,
      "outputs": []
    },
    {
      "cell_type": "code",
      "metadata": {
        "id": "QMfxnKeRtU5n"
      },
      "source": [
        "interp = ClassificationInterpretation.from_learner(learn) # Show how model performed\n",
        "interp.plot_confusion_matrix()"
      ],
      "execution_count": null,
      "outputs": []
    },
    {
      "cell_type": "code",
      "metadata": {
        "id": "5-e7i6C7tU5p"
      },
      "source": [
        "interp.plot_top_losses(12, nrows=3)  # Show how model performed"
      ],
      "execution_count": null,
      "outputs": []
    },
    {
      "cell_type": "code",
      "metadata": {
        "id": "yYoV4oLLtU5p"
      },
      "source": [
        "learn.export('/content/gdrive/My Drive/nameofyourworkingfolder/nameofyourmodel.pkl') #give model a name and export to the root folder"
      ],
      "execution_count": null,
      "outputs": []
    },
    {
      "cell_type": "code",
      "metadata": {
        "id": "8tfKY09C28s2"
      },
      "source": [
        "learn.predict('/content/gdrive/My Drive/nameofyourworkingfolder/test.jpg') #prediction on test image, you upload it to the same folder (not before training)"
      ],
      "execution_count": null,
      "outputs": []
    }
  ]
}